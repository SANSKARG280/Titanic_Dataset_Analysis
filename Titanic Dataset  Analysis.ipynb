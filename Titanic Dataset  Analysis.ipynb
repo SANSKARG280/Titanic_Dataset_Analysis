{
 "cells": [
  {
   "cell_type": "code",
   "execution_count": 1,
   "id": "5d576d61",
   "metadata": {},
   "outputs": [],
   "source": [
    "import pandas as pd\n",
    "import numpy as np\n",
    "import matplotlib as mpl\n",
    "import matplotlib.pyplot as plt\n",
    "import seaborn as sns"
   ]
  },
  {
   "cell_type": "code",
   "execution_count": 2,
   "id": "0f75d04e",
   "metadata": {},
   "outputs": [
    {
     "data": {
      "text/html": [
       "<div>\n",
       "<style scoped>\n",
       "    .dataframe tbody tr th:only-of-type {\n",
       "        vertical-align: middle;\n",
       "    }\n",
       "\n",
       "    .dataframe tbody tr th {\n",
       "        vertical-align: top;\n",
       "    }\n",
       "\n",
       "    .dataframe thead th {\n",
       "        text-align: right;\n",
       "    }\n",
       "</style>\n",
       "<table border=\"1\" class=\"dataframe\">\n",
       "  <thead>\n",
       "    <tr style=\"text-align: right;\">\n",
       "      <th></th>\n",
       "      <th>PassengerId</th>\n",
       "      <th>Survived</th>\n",
       "      <th>Pclass</th>\n",
       "      <th>Name</th>\n",
       "      <th>Sex</th>\n",
       "      <th>Age</th>\n",
       "      <th>SibSp</th>\n",
       "      <th>Parch</th>\n",
       "      <th>Ticket</th>\n",
       "      <th>Fare</th>\n",
       "      <th>Cabin</th>\n",
       "      <th>Embarked</th>\n",
       "    </tr>\n",
       "  </thead>\n",
       "  <tbody>\n",
       "    <tr>\n",
       "      <th>0</th>\n",
       "      <td>1</td>\n",
       "      <td>0</td>\n",
       "      <td>3</td>\n",
       "      <td>Braund, Mr. Owen Harris</td>\n",
       "      <td>male</td>\n",
       "      <td>22.0</td>\n",
       "      <td>1</td>\n",
       "      <td>0</td>\n",
       "      <td>A/5 21171</td>\n",
       "      <td>7.2500</td>\n",
       "      <td>NaN</td>\n",
       "      <td>S</td>\n",
       "    </tr>\n",
       "    <tr>\n",
       "      <th>1</th>\n",
       "      <td>2</td>\n",
       "      <td>1</td>\n",
       "      <td>1</td>\n",
       "      <td>Cumings, Mrs. John Bradley (Florence Briggs Th...</td>\n",
       "      <td>female</td>\n",
       "      <td>38.0</td>\n",
       "      <td>1</td>\n",
       "      <td>0</td>\n",
       "      <td>PC 17599</td>\n",
       "      <td>71.2833</td>\n",
       "      <td>C85</td>\n",
       "      <td>C</td>\n",
       "    </tr>\n",
       "    <tr>\n",
       "      <th>2</th>\n",
       "      <td>3</td>\n",
       "      <td>1</td>\n",
       "      <td>3</td>\n",
       "      <td>Heikkinen, Miss. Laina</td>\n",
       "      <td>female</td>\n",
       "      <td>26.0</td>\n",
       "      <td>0</td>\n",
       "      <td>0</td>\n",
       "      <td>STON/O2. 3101282</td>\n",
       "      <td>7.9250</td>\n",
       "      <td>NaN</td>\n",
       "      <td>S</td>\n",
       "    </tr>\n",
       "    <tr>\n",
       "      <th>3</th>\n",
       "      <td>4</td>\n",
       "      <td>1</td>\n",
       "      <td>1</td>\n",
       "      <td>Futrelle, Mrs. Jacques Heath (Lily May Peel)</td>\n",
       "      <td>female</td>\n",
       "      <td>35.0</td>\n",
       "      <td>1</td>\n",
       "      <td>0</td>\n",
       "      <td>113803</td>\n",
       "      <td>53.1000</td>\n",
       "      <td>C123</td>\n",
       "      <td>S</td>\n",
       "    </tr>\n",
       "    <tr>\n",
       "      <th>4</th>\n",
       "      <td>5</td>\n",
       "      <td>0</td>\n",
       "      <td>3</td>\n",
       "      <td>Allen, Mr. William Henry</td>\n",
       "      <td>male</td>\n",
       "      <td>35.0</td>\n",
       "      <td>0</td>\n",
       "      <td>0</td>\n",
       "      <td>373450</td>\n",
       "      <td>8.0500</td>\n",
       "      <td>NaN</td>\n",
       "      <td>S</td>\n",
       "    </tr>\n",
       "    <tr>\n",
       "      <th>...</th>\n",
       "      <td>...</td>\n",
       "      <td>...</td>\n",
       "      <td>...</td>\n",
       "      <td>...</td>\n",
       "      <td>...</td>\n",
       "      <td>...</td>\n",
       "      <td>...</td>\n",
       "      <td>...</td>\n",
       "      <td>...</td>\n",
       "      <td>...</td>\n",
       "      <td>...</td>\n",
       "      <td>...</td>\n",
       "    </tr>\n",
       "    <tr>\n",
       "      <th>886</th>\n",
       "      <td>887</td>\n",
       "      <td>0</td>\n",
       "      <td>2</td>\n",
       "      <td>Montvila, Rev. Juozas</td>\n",
       "      <td>male</td>\n",
       "      <td>27.0</td>\n",
       "      <td>0</td>\n",
       "      <td>0</td>\n",
       "      <td>211536</td>\n",
       "      <td>13.0000</td>\n",
       "      <td>NaN</td>\n",
       "      <td>S</td>\n",
       "    </tr>\n",
       "    <tr>\n",
       "      <th>887</th>\n",
       "      <td>888</td>\n",
       "      <td>1</td>\n",
       "      <td>1</td>\n",
       "      <td>Graham, Miss. Margaret Edith</td>\n",
       "      <td>female</td>\n",
       "      <td>19.0</td>\n",
       "      <td>0</td>\n",
       "      <td>0</td>\n",
       "      <td>112053</td>\n",
       "      <td>30.0000</td>\n",
       "      <td>B42</td>\n",
       "      <td>S</td>\n",
       "    </tr>\n",
       "    <tr>\n",
       "      <th>888</th>\n",
       "      <td>889</td>\n",
       "      <td>0</td>\n",
       "      <td>3</td>\n",
       "      <td>Johnston, Miss. Catherine Helen \"Carrie\"</td>\n",
       "      <td>female</td>\n",
       "      <td>NaN</td>\n",
       "      <td>1</td>\n",
       "      <td>2</td>\n",
       "      <td>W./C. 6607</td>\n",
       "      <td>23.4500</td>\n",
       "      <td>NaN</td>\n",
       "      <td>S</td>\n",
       "    </tr>\n",
       "    <tr>\n",
       "      <th>889</th>\n",
       "      <td>890</td>\n",
       "      <td>1</td>\n",
       "      <td>1</td>\n",
       "      <td>Behr, Mr. Karl Howell</td>\n",
       "      <td>male</td>\n",
       "      <td>26.0</td>\n",
       "      <td>0</td>\n",
       "      <td>0</td>\n",
       "      <td>111369</td>\n",
       "      <td>30.0000</td>\n",
       "      <td>C148</td>\n",
       "      <td>C</td>\n",
       "    </tr>\n",
       "    <tr>\n",
       "      <th>890</th>\n",
       "      <td>891</td>\n",
       "      <td>0</td>\n",
       "      <td>3</td>\n",
       "      <td>Dooley, Mr. Patrick</td>\n",
       "      <td>male</td>\n",
       "      <td>32.0</td>\n",
       "      <td>0</td>\n",
       "      <td>0</td>\n",
       "      <td>370376</td>\n",
       "      <td>7.7500</td>\n",
       "      <td>NaN</td>\n",
       "      <td>Q</td>\n",
       "    </tr>\n",
       "  </tbody>\n",
       "</table>\n",
       "<p>891 rows × 12 columns</p>\n",
       "</div>"
      ],
      "text/plain": [
       "     PassengerId  Survived  Pclass  \\\n",
       "0              1         0       3   \n",
       "1              2         1       1   \n",
       "2              3         1       3   \n",
       "3              4         1       1   \n",
       "4              5         0       3   \n",
       "..           ...       ...     ...   \n",
       "886          887         0       2   \n",
       "887          888         1       1   \n",
       "888          889         0       3   \n",
       "889          890         1       1   \n",
       "890          891         0       3   \n",
       "\n",
       "                                                  Name     Sex   Age  SibSp  \\\n",
       "0                              Braund, Mr. Owen Harris    male  22.0      1   \n",
       "1    Cumings, Mrs. John Bradley (Florence Briggs Th...  female  38.0      1   \n",
       "2                               Heikkinen, Miss. Laina  female  26.0      0   \n",
       "3         Futrelle, Mrs. Jacques Heath (Lily May Peel)  female  35.0      1   \n",
       "4                             Allen, Mr. William Henry    male  35.0      0   \n",
       "..                                                 ...     ...   ...    ...   \n",
       "886                              Montvila, Rev. Juozas    male  27.0      0   \n",
       "887                       Graham, Miss. Margaret Edith  female  19.0      0   \n",
       "888           Johnston, Miss. Catherine Helen \"Carrie\"  female   NaN      1   \n",
       "889                              Behr, Mr. Karl Howell    male  26.0      0   \n",
       "890                                Dooley, Mr. Patrick    male  32.0      0   \n",
       "\n",
       "     Parch            Ticket     Fare Cabin Embarked  \n",
       "0        0         A/5 21171   7.2500   NaN        S  \n",
       "1        0          PC 17599  71.2833   C85        C  \n",
       "2        0  STON/O2. 3101282   7.9250   NaN        S  \n",
       "3        0            113803  53.1000  C123        S  \n",
       "4        0            373450   8.0500   NaN        S  \n",
       "..     ...               ...      ...   ...      ...  \n",
       "886      0            211536  13.0000   NaN        S  \n",
       "887      0            112053  30.0000   B42        S  \n",
       "888      2        W./C. 6607  23.4500   NaN        S  \n",
       "889      0            111369  30.0000  C148        C  \n",
       "890      0            370376   7.7500   NaN        Q  \n",
       "\n",
       "[891 rows x 12 columns]"
      ]
     },
     "execution_count": 2,
     "metadata": {},
     "output_type": "execute_result"
    }
   ],
   "source": [
    "# Read the Iris dataset file\n",
    "data = pd.read_csv(\"titanic - titanic.csv\")\n",
    "data"
   ]
  },
  {
   "cell_type": "markdown",
   "id": "f8a07c90",
   "metadata": {},
   "source": [
    "## Exploring the dataset:"
   ]
  },
  {
   "cell_type": "code",
   "execution_count": 3,
   "id": "6cfbd380",
   "metadata": {},
   "outputs": [
    {
     "data": {
      "text/plain": [
       "Index(['PassengerId', 'Survived', 'Pclass', 'Name', 'Sex', 'Age', 'SibSp',\n",
       "       'Parch', 'Ticket', 'Fare', 'Cabin', 'Embarked'],\n",
       "      dtype='object')"
      ]
     },
     "execution_count": 3,
     "metadata": {},
     "output_type": "execute_result"
    }
   ],
   "source": [
    "# dataset columns\n",
    "data.columns"
   ]
  },
  {
   "cell_type": "code",
   "execution_count": 4,
   "id": "24add5df",
   "metadata": {},
   "outputs": [
    {
     "data": {
      "text/html": [
       "<div>\n",
       "<style scoped>\n",
       "    .dataframe tbody tr th:only-of-type {\n",
       "        vertical-align: middle;\n",
       "    }\n",
       "\n",
       "    .dataframe tbody tr th {\n",
       "        vertical-align: top;\n",
       "    }\n",
       "\n",
       "    .dataframe thead th {\n",
       "        text-align: right;\n",
       "    }\n",
       "</style>\n",
       "<table border=\"1\" class=\"dataframe\">\n",
       "  <thead>\n",
       "    <tr style=\"text-align: right;\">\n",
       "      <th></th>\n",
       "      <th>PassengerId</th>\n",
       "      <th>Survived</th>\n",
       "      <th>Pclass</th>\n",
       "      <th>Name</th>\n",
       "      <th>Sex</th>\n",
       "      <th>Age</th>\n",
       "      <th>SibSp</th>\n",
       "      <th>Parch</th>\n",
       "      <th>Ticket</th>\n",
       "      <th>Fare</th>\n",
       "      <th>Cabin</th>\n",
       "      <th>Embarked</th>\n",
       "    </tr>\n",
       "  </thead>\n",
       "  <tbody>\n",
       "    <tr>\n",
       "      <th>0</th>\n",
       "      <td>1</td>\n",
       "      <td>0</td>\n",
       "      <td>3</td>\n",
       "      <td>Braund, Mr. Owen Harris</td>\n",
       "      <td>male</td>\n",
       "      <td>22.0</td>\n",
       "      <td>1</td>\n",
       "      <td>0</td>\n",
       "      <td>A/5 21171</td>\n",
       "      <td>7.2500</td>\n",
       "      <td>NaN</td>\n",
       "      <td>S</td>\n",
       "    </tr>\n",
       "    <tr>\n",
       "      <th>1</th>\n",
       "      <td>2</td>\n",
       "      <td>1</td>\n",
       "      <td>1</td>\n",
       "      <td>Cumings, Mrs. John Bradley (Florence Briggs Th...</td>\n",
       "      <td>female</td>\n",
       "      <td>38.0</td>\n",
       "      <td>1</td>\n",
       "      <td>0</td>\n",
       "      <td>PC 17599</td>\n",
       "      <td>71.2833</td>\n",
       "      <td>C85</td>\n",
       "      <td>C</td>\n",
       "    </tr>\n",
       "    <tr>\n",
       "      <th>2</th>\n",
       "      <td>3</td>\n",
       "      <td>1</td>\n",
       "      <td>3</td>\n",
       "      <td>Heikkinen, Miss. Laina</td>\n",
       "      <td>female</td>\n",
       "      <td>26.0</td>\n",
       "      <td>0</td>\n",
       "      <td>0</td>\n",
       "      <td>STON/O2. 3101282</td>\n",
       "      <td>7.9250</td>\n",
       "      <td>NaN</td>\n",
       "      <td>S</td>\n",
       "    </tr>\n",
       "    <tr>\n",
       "      <th>3</th>\n",
       "      <td>4</td>\n",
       "      <td>1</td>\n",
       "      <td>1</td>\n",
       "      <td>Futrelle, Mrs. Jacques Heath (Lily May Peel)</td>\n",
       "      <td>female</td>\n",
       "      <td>35.0</td>\n",
       "      <td>1</td>\n",
       "      <td>0</td>\n",
       "      <td>113803</td>\n",
       "      <td>53.1000</td>\n",
       "      <td>C123</td>\n",
       "      <td>S</td>\n",
       "    </tr>\n",
       "    <tr>\n",
       "      <th>4</th>\n",
       "      <td>5</td>\n",
       "      <td>0</td>\n",
       "      <td>3</td>\n",
       "      <td>Allen, Mr. William Henry</td>\n",
       "      <td>male</td>\n",
       "      <td>35.0</td>\n",
       "      <td>0</td>\n",
       "      <td>0</td>\n",
       "      <td>373450</td>\n",
       "      <td>8.0500</td>\n",
       "      <td>NaN</td>\n",
       "      <td>S</td>\n",
       "    </tr>\n",
       "  </tbody>\n",
       "</table>\n",
       "</div>"
      ],
      "text/plain": [
       "   PassengerId  Survived  Pclass  \\\n",
       "0            1         0       3   \n",
       "1            2         1       1   \n",
       "2            3         1       3   \n",
       "3            4         1       1   \n",
       "4            5         0       3   \n",
       "\n",
       "                                                Name     Sex   Age  SibSp  \\\n",
       "0                            Braund, Mr. Owen Harris    male  22.0      1   \n",
       "1  Cumings, Mrs. John Bradley (Florence Briggs Th...  female  38.0      1   \n",
       "2                             Heikkinen, Miss. Laina  female  26.0      0   \n",
       "3       Futrelle, Mrs. Jacques Heath (Lily May Peel)  female  35.0      1   \n",
       "4                           Allen, Mr. William Henry    male  35.0      0   \n",
       "\n",
       "   Parch            Ticket     Fare Cabin Embarked  \n",
       "0      0         A/5 21171   7.2500   NaN        S  \n",
       "1      0          PC 17599  71.2833   C85        C  \n",
       "2      0  STON/O2. 3101282   7.9250   NaN        S  \n",
       "3      0            113803  53.1000  C123        S  \n",
       "4      0            373450   8.0500   NaN        S  "
      ]
     },
     "execution_count": 4,
     "metadata": {},
     "output_type": "execute_result"
    }
   ],
   "source": [
    "data.head()"
   ]
  },
  {
   "cell_type": "code",
   "execution_count": 5,
   "id": "bc6bf603",
   "metadata": {},
   "outputs": [
    {
     "name": "stdout",
     "output_type": "stream",
     "text": [
      "   Survived  Pclass     Sex   Age     Fare Embarked\n",
      "0         0       3    male  22.0   7.2500        S\n",
      "1         1       1  female  38.0  71.2833        C\n",
      "2         1       3  female  26.0   7.9250        S\n",
      "3         1       1  female  35.0  53.1000        S\n",
      "4         0       3    male  35.0   8.0500        S\n"
     ]
    }
   ],
   "source": [
    "# drop some columns :\n",
    "data = data.drop(columns=['PassengerId', 'Name', 'SibSp', 'Parch', 'Ticket', 'Cabin'])\n",
    "print (data.head())"
   ]
  },
  {
   "cell_type": "code",
   "execution_count": 6,
   "id": "8526d6d4",
   "metadata": {},
   "outputs": [
    {
     "data": {
      "text/plain": [
       "Index(['Survived', 'Pclass', 'Sex', 'Age', 'Fare', 'Embarked'], dtype='object')"
      ]
     },
     "execution_count": 6,
     "metadata": {},
     "output_type": "execute_result"
    }
   ],
   "source": [
    "# print columns after edit:\n",
    "data.columns"
   ]
  },
  {
   "cell_type": "code",
   "execution_count": 7,
   "id": "c1dc1805",
   "metadata": {},
   "outputs": [
    {
     "data": {
      "text/html": [
       "<div>\n",
       "<style scoped>\n",
       "    .dataframe tbody tr th:only-of-type {\n",
       "        vertical-align: middle;\n",
       "    }\n",
       "\n",
       "    .dataframe tbody tr th {\n",
       "        vertical-align: top;\n",
       "    }\n",
       "\n",
       "    .dataframe thead th {\n",
       "        text-align: right;\n",
       "    }\n",
       "</style>\n",
       "<table border=\"1\" class=\"dataframe\">\n",
       "  <thead>\n",
       "    <tr style=\"text-align: right;\">\n",
       "      <th></th>\n",
       "      <th>Survived</th>\n",
       "      <th>Pclass</th>\n",
       "      <th>Age</th>\n",
       "      <th>Fare</th>\n",
       "    </tr>\n",
       "  </thead>\n",
       "  <tbody>\n",
       "    <tr>\n",
       "      <th>count</th>\n",
       "      <td>891.000000</td>\n",
       "      <td>891.000000</td>\n",
       "      <td>714.000000</td>\n",
       "      <td>891.000000</td>\n",
       "    </tr>\n",
       "    <tr>\n",
       "      <th>mean</th>\n",
       "      <td>0.383838</td>\n",
       "      <td>2.308642</td>\n",
       "      <td>29.699118</td>\n",
       "      <td>32.204208</td>\n",
       "    </tr>\n",
       "    <tr>\n",
       "      <th>std</th>\n",
       "      <td>0.486592</td>\n",
       "      <td>0.836071</td>\n",
       "      <td>14.526497</td>\n",
       "      <td>49.693429</td>\n",
       "    </tr>\n",
       "    <tr>\n",
       "      <th>min</th>\n",
       "      <td>0.000000</td>\n",
       "      <td>1.000000</td>\n",
       "      <td>0.420000</td>\n",
       "      <td>0.000000</td>\n",
       "    </tr>\n",
       "    <tr>\n",
       "      <th>25%</th>\n",
       "      <td>0.000000</td>\n",
       "      <td>2.000000</td>\n",
       "      <td>20.125000</td>\n",
       "      <td>7.910400</td>\n",
       "    </tr>\n",
       "    <tr>\n",
       "      <th>50%</th>\n",
       "      <td>0.000000</td>\n",
       "      <td>3.000000</td>\n",
       "      <td>28.000000</td>\n",
       "      <td>14.454200</td>\n",
       "    </tr>\n",
       "    <tr>\n",
       "      <th>75%</th>\n",
       "      <td>1.000000</td>\n",
       "      <td>3.000000</td>\n",
       "      <td>38.000000</td>\n",
       "      <td>31.000000</td>\n",
       "    </tr>\n",
       "    <tr>\n",
       "      <th>max</th>\n",
       "      <td>1.000000</td>\n",
       "      <td>3.000000</td>\n",
       "      <td>80.000000</td>\n",
       "      <td>512.329200</td>\n",
       "    </tr>\n",
       "  </tbody>\n",
       "</table>\n",
       "</div>"
      ],
      "text/plain": [
       "         Survived      Pclass         Age        Fare\n",
       "count  891.000000  891.000000  714.000000  891.000000\n",
       "mean     0.383838    2.308642   29.699118   32.204208\n",
       "std      0.486592    0.836071   14.526497   49.693429\n",
       "min      0.000000    1.000000    0.420000    0.000000\n",
       "25%      0.000000    2.000000   20.125000    7.910400\n",
       "50%      0.000000    3.000000   28.000000   14.454200\n",
       "75%      1.000000    3.000000   38.000000   31.000000\n",
       "max      1.000000    3.000000   80.000000  512.329200"
      ]
     },
     "execution_count": 7,
     "metadata": {},
     "output_type": "execute_result"
    }
   ],
   "source": [
    "data.describe()"
   ]
  },
  {
   "cell_type": "code",
   "execution_count": 8,
   "id": "dc4a16bf",
   "metadata": {},
   "outputs": [
    {
     "data": {
      "text/plain": [
       "Survived      0\n",
       "Pclass        0\n",
       "Sex           0\n",
       "Age         177\n",
       "Fare          0\n",
       "Embarked      2\n",
       "dtype: int64"
      ]
     },
     "execution_count": 8,
     "metadata": {},
     "output_type": "execute_result"
    }
   ],
   "source": [
    "data.isnull().sum()"
   ]
  },
  {
   "cell_type": "markdown",
   "id": "fd60c01f",
   "metadata": {},
   "source": [
    "In the previous table, it is evident that there are some missing data that need to be addressed and handled."
   ]
  },
  {
   "cell_type": "markdown",
   "id": "4ff0a2e3",
   "metadata": {},
   "source": [
    "## Cleaning the dataset:"
   ]
  },
  {
   "cell_type": "code",
   "execution_count": 9,
   "id": "d2436358",
   "metadata": {},
   "outputs": [
    {
     "name": "stdout",
     "output_type": "stream",
     "text": [
      "Survived      int64\n",
      "Pclass        int64\n",
      "Sex          object\n",
      "Age         float64\n",
      "Fare        float64\n",
      "Embarked     object\n",
      "dtype: object\n"
     ]
    }
   ],
   "source": [
    "# printing the data type of each column in this dataset\n",
    "print(data.dtypes)"
   ]
  },
  {
   "cell_type": "markdown",
   "id": "351f5944",
   "metadata": {},
   "source": [
    "The Fare column has 1 missing value, and I will replace him with data['Fare'].mean():"
   ]
  },
  {
   "cell_type": "code",
   "execution_count": 10,
   "id": "f8331462",
   "metadata": {},
   "outputs": [
    {
     "name": "stdout",
     "output_type": "stream",
     "text": [
      "The data['Fare'] missing val =\t 0\n"
     ]
    }
   ],
   "source": [
    "data['Fare'].fillna(data['Fare'].mean(), inplace=True)\n",
    "print (\"The data['Fare'] missing val =\\t\",data[\"Fare\"].isnull().sum())"
   ]
  },
  {
   "cell_type": "markdown",
   "id": "695bf6ab",
   "metadata": {},
   "source": [
    "## * Dealing with missing data in the 'Age' column:"
   ]
  },
  {
   "cell_type": "markdown",
   "id": "67ab8168",
   "metadata": {},
   "source": [
    "I will create a linear regression model to predict missing ages."
   ]
  },
  {
   "cell_type": "markdown",
   "id": "6e39a316",
   "metadata": {},
   "source": [
    "\n",
    "\n",
    "\n",
    "Lets see the data destribution in age column before predict the missing values and after predict the missing values."
   ]
  },
  {
   "cell_type": "code",
   "execution_count": 11,
   "id": "1a7604b5",
   "metadata": {},
   "outputs": [
    {
     "data": {
      "text/plain": [
       "<AxesSubplot:>"
      ]
     },
     "execution_count": 11,
     "metadata": {},
     "output_type": "execute_result"
    },
    {
     "data": {
      "image/png": "[encoded data removed]",
      "text/plain": [
       "<Figure size 432x288 with 1 Axes>"
      ]
     },
     "metadata": {
      "needs_background": "light"
     },
     "output_type": "display_data"
    }
   ],
   "source": [
    "#before predict the missing values \n",
    "data['Age'].hist()"
   ]
  },
  {
   "cell_type": "markdown",
   "id": "7e4bb742",
   "metadata": {},
   "source": [
    "Now lets build the model to predict the missing value in the age column."
   ]
  },
  {
   "cell_type": "code",
   "execution_count": 12,
   "id": "dec293ee",
   "metadata": {},
   "outputs": [
    {
     "name": "stdout",
     "output_type": "stream",
     "text": [
      "done\n"
     ]
    }
   ],
   "source": [
    "from sklearn.linear_model import LinearRegression\n",
    "\n",
    "# Create a subset of the dataset with non-missing age values\n",
    "age_df = data[['Survived', 'Pclass', 'Age', 'Fare']]  # Include relevant features\n",
    "\n",
    "# Split into two subsets: one with missing ages and one without\n",
    "known_age = age_df.loc[age_df['Age'].notna()]\n",
    "unknown_age = age_df.loc[age_df['Age'].isna()]\n",
    "\n",
    "# Create a linear regression model to predict missing ages\n",
    "model = LinearRegression()\n",
    "model.fit(known_age.drop('Age', axis=1), known_age['Age'])\n",
    "predicted_age = model.predict(unknown_age.drop('Age', axis=1))\n",
    "\n",
    "# Fill in the missing age values with the predicted values\n",
    "data.loc[data['Age'].isna(), 'Age'] = predicted_age\n",
    "print(\"done\")"
   ]
  },
  {
   "cell_type": "code",
   "execution_count": 13,
   "id": "b2a6868a",
   "metadata": {},
   "outputs": [
    {
     "name": "stdout",
     "output_type": "stream",
     "text": [
      "The data['Age'] missing val =\t 0\n"
     ]
    }
   ],
   "source": [
    "print (\"The data['Age'] missing val =\\t\",data[\"Age\"].isnull().sum())"
   ]
  },
  {
   "cell_type": "code",
   "execution_count": 14,
   "id": "9fae4014",
   "metadata": {},
   "outputs": [
    {
     "data": {
      "text/plain": [
       "<AxesSubplot:>"
      ]
     },
     "execution_count": 14,
     "metadata": {},
     "output_type": "execute_result"
    },
    {
     "data": {
      "image/png": "[encoded data removed]",
      "text/plain": [
       "<Figure size 432x288 with 1 Axes>"
      ]
     },
     "metadata": {
      "needs_background": "light"
     },
     "output_type": "display_data"
    }
   ],
   "source": [
    "#After predict the missing values in data['Age']\n",
    "data['Age'].hist()"
   ]
  },
  {
   "cell_type": "markdown",
   "id": "6af916c2",
   "metadata": {},
   "source": [
    "# Wow incridable"
   ]
  },
  {
   "cell_type": "code",
   "execution_count": 15,
   "id": "0742c4ba",
   "metadata": {},
   "outputs": [
    {
     "name": "stdout",
     "output_type": "stream",
     "text": [
      "The total of missing values in each column:\n",
      "\n"
     ]
    },
    {
     "data": {
      "text/plain": [
       "Survived    0\n",
       "Pclass      0\n",
       "Sex         0\n",
       "Age         0\n",
       "Fare        0\n",
       "Embarked    2\n",
       "dtype: int64"
      ]
     },
     "execution_count": 15,
     "metadata": {},
     "output_type": "execute_result"
    }
   ],
   "source": [
    "print (\"The total of missing values in each column:\\n\");data.isnull().sum()"
   ]
  },
  {
   "cell_type": "markdown",
   "id": "6db46da1",
   "metadata": {},
   "source": [
    "#### There are some outliers I well drop the outliers from the Fare column by using pandas.quantile() function."
   ]
  },
  {
   "cell_type": "markdown",
   "id": "bb8fcc9c",
   "metadata": {},
   "source": [
    "# Explaining the dataset:"
   ]
  },
  {
   "cell_type": "markdown",
   "id": "c1487846",
   "metadata": {},
   "source": [
    "The Survived column indicates whether the passenger survived (value 1) or not (value 0) in the Titanic shipwreck."
   ]
  },
  {
   "cell_type": "code",
   "execution_count": 16,
   "id": "24e0561f",
   "metadata": {},
   "outputs": [
    {
     "name": "stdout",
     "output_type": "stream",
     "text": [
      "Average of Survived: 0.3838383838383838\n"
     ]
    }
   ],
   "source": [
    "# Calculate the average of \"Survived\"\n",
    "survived_average = data[\"Survived\"].mean()\n",
    "\n",
    "# Print the average\n",
    "print(\"Average of Survived:\", survived_average)"
   ]
  },
  {
   "cell_type": "markdown",
   "id": "557a554c",
   "metadata": {},
   "source": [
    "Based on the given information that the survival rate of the Titanic shipwreck is approximately (36%) only.\n",
    "\n",
    "The sinking of the Titanic resulted in a significant loss of life, with a majority of the passengers not surviving the disas"
   ]
  },
  {
   "cell_type": "markdown",
   "id": "2c33549b",
   "metadata": {},
   "source": [
    "## Studying the relationship between the 'Survived' column and the other columns."
   ]
  },
  {
   "cell_type": "markdown",
   "id": "d51eb3a4",
   "metadata": {},
   "source": [
    "##### Lets maping sex column to male=1 , and female=2 and creating a new column:"
   ]
  },
  {
   "cell_type": "code",
   "execution_count": 17,
   "id": "1cd0b0d8",
   "metadata": {},
   "outputs": [
    {
     "data": {
      "text/html": [
       "<div>\n",
       "<style scoped>\n",
       "    .dataframe tbody tr th:only-of-type {\n",
       "        vertical-align: middle;\n",
       "    }\n",
       "\n",
       "    .dataframe tbody tr th {\n",
       "        vertical-align: top;\n",
       "    }\n",
       "\n",
       "    .dataframe thead th {\n",
       "        text-align: right;\n",
       "    }\n",
       "</style>\n",
       "<table border=\"1\" class=\"dataframe\">\n",
       "  <thead>\n",
       "    <tr style=\"text-align: right;\">\n",
       "      <th></th>\n",
       "      <th>Sex</th>\n",
       "      <th>Sex_Encoded</th>\n",
       "    </tr>\n",
       "  </thead>\n",
       "  <tbody>\n",
       "    <tr>\n",
       "      <th>0</th>\n",
       "      <td>male</td>\n",
       "      <td>1</td>\n",
       "    </tr>\n",
       "    <tr>\n",
       "      <th>1</th>\n",
       "      <td>female</td>\n",
       "      <td>2</td>\n",
       "    </tr>\n",
       "    <tr>\n",
       "      <th>2</th>\n",
       "      <td>female</td>\n",
       "      <td>2</td>\n",
       "    </tr>\n",
       "    <tr>\n",
       "      <th>3</th>\n",
       "      <td>female</td>\n",
       "      <td>2</td>\n",
       "    </tr>\n",
       "    <tr>\n",
       "      <th>4</th>\n",
       "      <td>male</td>\n",
       "      <td>1</td>\n",
       "    </tr>\n",
       "    <tr>\n",
       "      <th>5</th>\n",
       "      <td>male</td>\n",
       "      <td>1</td>\n",
       "    </tr>\n",
       "    <tr>\n",
       "      <th>6</th>\n",
       "      <td>male</td>\n",
       "      <td>1</td>\n",
       "    </tr>\n",
       "    <tr>\n",
       "      <th>7</th>\n",
       "      <td>male</td>\n",
       "      <td>1</td>\n",
       "    </tr>\n",
       "    <tr>\n",
       "      <th>8</th>\n",
       "      <td>female</td>\n",
       "      <td>2</td>\n",
       "    </tr>\n",
       "    <tr>\n",
       "      <th>9</th>\n",
       "      <td>female</td>\n",
       "      <td>2</td>\n",
       "    </tr>\n",
       "    <tr>\n",
       "      <th>10</th>\n",
       "      <td>female</td>\n",
       "      <td>2</td>\n",
       "    </tr>\n",
       "    <tr>\n",
       "      <th>11</th>\n",
       "      <td>female</td>\n",
       "      <td>2</td>\n",
       "    </tr>\n",
       "    <tr>\n",
       "      <th>12</th>\n",
       "      <td>male</td>\n",
       "      <td>1</td>\n",
       "    </tr>\n",
       "    <tr>\n",
       "      <th>13</th>\n",
       "      <td>male</td>\n",
       "      <td>1</td>\n",
       "    </tr>\n",
       "    <tr>\n",
       "      <th>14</th>\n",
       "      <td>female</td>\n",
       "      <td>2</td>\n",
       "    </tr>\n",
       "    <tr>\n",
       "      <th>15</th>\n",
       "      <td>female</td>\n",
       "      <td>2</td>\n",
       "    </tr>\n",
       "    <tr>\n",
       "      <th>16</th>\n",
       "      <td>male</td>\n",
       "      <td>1</td>\n",
       "    </tr>\n",
       "    <tr>\n",
       "      <th>17</th>\n",
       "      <td>male</td>\n",
       "      <td>1</td>\n",
       "    </tr>\n",
       "    <tr>\n",
       "      <th>18</th>\n",
       "      <td>female</td>\n",
       "      <td>2</td>\n",
       "    </tr>\n",
       "    <tr>\n",
       "      <th>19</th>\n",
       "      <td>female</td>\n",
       "      <td>2</td>\n",
       "    </tr>\n",
       "  </tbody>\n",
       "</table>\n",
       "</div>"
      ],
      "text/plain": [
       "       Sex  Sex_Encoded\n",
       "0     male            1\n",
       "1   female            2\n",
       "2   female            2\n",
       "3   female            2\n",
       "4     male            1\n",
       "5     male            1\n",
       "6     male            1\n",
       "7     male            1\n",
       "8   female            2\n",
       "9   female            2\n",
       "10  female            2\n",
       "11  female            2\n",
       "12    male            1\n",
       "13    male            1\n",
       "14  female            2\n",
       "15  female            2\n",
       "16    male            1\n",
       "17    male            1\n",
       "18  female            2\n",
       "19  female            2"
      ]
     },
     "execution_count": 17,
     "metadata": {},
     "output_type": "execute_result"
    }
   ],
   "source": [
    "data['Sex_Encoded'] = data['Sex'].map({'male': 1, 'female': 2})\n",
    "\n",
    "data[[\"Sex\",\"Sex_Encoded\"]].head(20)"
   ]
  },
  {
   "cell_type": "markdown",
   "id": "1add5b50",
   "metadata": {},
   "source": [
    " Create a heatmap using the correlation matrix"
   ]
  },
  {
   "cell_type": "code",
   "execution_count": 18,
   "id": "bd603e5c",
   "metadata": {},
   "outputs": [
    {
     "name": "stdout",
     "output_type": "stream",
     "text": [
      "Pclass        -0.338481\n",
      "Sex_Encoded    0.543351\n",
      "Age           -0.090222\n",
      "Fare           0.257307\n",
      "Survived       1.000000\n",
      "Name: Survived, dtype: float64\n"
     ]
    },
    {
     "data": {
      "image/png": "[encoded data removed]",
      "text/plain": [
       "<Figure size 720x576 with 2 Axes>"
      ]
     },
     "metadata": {
      "needs_background": "light"
     },
     "output_type": "display_data"
    }
   ],
   "source": [
    "# Assuming 'df' is the DataFrame containing the Titanic dataset\n",
    "\n",
    "# Select the desired columns for correlation analysis\n",
    "selected_columns = ['Pclass', 'Sex_Encoded', 'Age', 'Fare']\n",
    "subset_df = data[selected_columns + ['Survived']]\n",
    "\n",
    "# Compute the correlation matrix\n",
    "corr_matrix = subset_df.corr()\n",
    "print(corr_matrix.Survived)\n",
    "\n",
    "# Create a heatmap using the correlation matrix\n",
    "plt.figure(figsize=(10, 8))\n",
    "sns.heatmap(corr_matrix, annot=True, cmap='coolwarm')\n",
    "\n",
    "# Set the title of the plot\n",
    "plt.title('Correlation Heatmap')\n",
    "\n",
    "# Display the plot\n",
    "plt.show()"
   ]
  },
  {
   "cell_type": "code",
   "execution_count": 19,
   "id": "2fe9b439",
   "metadata": {},
   "outputs": [
    {
     "data": {
      "image/png": "[encoded data removed]",
      "text/plain": [
       "<Figure size 432x288 with 1 Axes>"
      ]
     },
     "metadata": {
      "needs_background": "light"
     },
     "output_type": "display_data"
    }
   ],
   "source": [
    "# Scatter plot\n",
    "plt.scatter(data['Sex_Encoded'], data['Survived'])\n",
    "\n",
    "# Trend line\n",
    "z = np.polyfit(data['Sex_Encoded'], data['Survived'], 1)\n",
    "p = np.poly1d(z)\n",
    "plt.plot(data['Sex_Encoded'], p(data['Sex_Encoded']), \"r--\")\n",
    "\n",
    "# Plot labels\n",
    "plt.xlabel('Sex_Encoded')\n",
    "plt.ylabel('Survived')\n",
    "\n",
    "# Plot title\n",
    "plt.title('Scatter Plot: Survived vs Sex_Encoded')\n",
    "plt.yticks([0, 1], ['No', 'Yes'])\n",
    "plt.xticks([1,2], ['Male', 'Female'])\n",
    "# Show the plot\n",
    "plt.show()"
   ]
  },
  {
   "cell_type": "markdown",
   "id": "f79ec76b",
   "metadata": {},
   "source": [
    "### Based on the correlation coefficient of 1 between 'Survived' and 'Sex_Encoded', we can draw the following statistical conclusion:"
   ]
  },
  {
   "cell_type": "markdown",
   "id": "f400f870",
   "metadata": {},
   "source": [
    "The variable 'Sex_Encoded' is strongly positively correlated with the survival outcome ('Survived'). A correlation coefficient of 1 indicates a perfect positive linear relationship between the two variables. This implies that as the 'Sex_Encoded' value increases (from 1 to 2), the likelihood of survival (represented by 'Survived') also increases.\n",
    "\n",
    "This finding suggests that gender played a significant role in determining the survival rate of passengers on the Titanic. The correlation indicates that being classified as male (encoded as 1) was associated with a lower chance of survival, while being classified as female (encoded as 2) was associated with a higher chance of survival.\n",
    "\n",
    "It is important to note that correlation does not imply causation, and additional analysis would be required to identify the underlying factors contributing to the observed correlation. Nonetheless, this correlation analysis highlights the potential importance of gender in understanding the survival outcomes of the Titanic passengers."
   ]
  },
  {
   "cell_type": "code",
   "execution_count": 20,
   "id": "c638ff98",
   "metadata": {},
   "outputs": [
    {
     "name": "stdout",
     "output_type": "stream",
     "text": [
      "Number of Males: 577\n",
      "Number of Females: 314\n",
      "Number of Male Survivors: 109\n",
      "Number of Female Survivors: 233\n"
     ]
    },
    {
     "data": {
      "image/png": "[encoded data removed]",
      "text/plain": [
       "<Figure size 432x288 with 1 Axes>"
      ]
     },
     "metadata": {
      "needs_background": "light"
     },
     "output_type": "display_data"
    }
   ],
   "source": [
    "num_male = len(data[data['Sex'] == 'male'])\n",
    "num_female = len(data[data['Sex'] == 'female'])\n",
    "\n",
    "male_survivors = len(data[(data['Sex'] == 'male') & (data['Survived'] == 1)])\n",
    "female_survivors = len(data[(data['Sex'] == 'female') & (data['Survived'] == 1)])\n",
    "\n",
    "print(\"Number of Males:\", num_male)\n",
    "print(\"Number of Females:\", num_female)\n",
    "print(\"Number of Male Survivors:\", male_survivors)\n",
    "print(\"Number of Female Survivors:\", female_survivors)\n",
    "\n",
    "\n",
    "labels = ['Males', 'Females', 'Male Survivors', 'Female Survivors']\n",
    "counts = [num_male, num_female, male_survivors, female_survivors]\n",
    "\n",
    "# Plotting\n",
    "plt.bar(labels, counts)\n",
    "plt.xlabel('Category')\n",
    "plt.ylabel('Count')\n",
    "plt.title('Counts of Males, Females, Male Survivors, and Female Survivors')\n",
    "\n",
    "# Display the plot\n",
    "plt.show()"
   ]
  },
  {
   "cell_type": "markdown",
   "id": "edc1e6d7",
   "metadata": {},
   "source": [
    "### Based on the provided statistics, we can draw the following conclusions:"
   ]
  },
  {
   "cell_type": "markdown",
   "id": "1914d21c",
   "metadata": {},
   "source": [
    "1.Gender Distribution: In the Titanic dataset, there were 266 males and 152 females. The number of males was significantly higher than the number of females.\n",
    "\n",
    "2.Survival Rate: None of the male passengers in the dataset survived the Titanic shipwreck, whereas all 152 female passengers in the dataset survived. This indicates a stark difference in the survival rates based on gender.\n",
    "\n",
    "3.Gender Disparity in Survival: The data highlights a significant gender disparity in survival, with all female passengers in the dataset surviving the disaster. This suggests that being female was a significant factor in increasing the chances of survival during the Titanic shipwreck.\n",
    "\n",
    "4.Importance of Gender in Survival: The survival outcome emphasizes the importance of gender in determining the likelihood of survival during maritime disasters. It suggests that females were given priority during the rescue efforts.\n",
    "\n",
    "It is important to note that these conclusions are based solely on the provided dataset, and further analysis would be required to make broader generalizations about the entire population of the Titanic passengers."
   ]
  },
  {
   "cell_type": "code",
   "execution_count": 21,
   "id": "eaf1f0cf",
   "metadata": {},
   "outputs": [
    {
     "data": {
      "image/png": "[encoded data removed]",
      "text/plain": [
       "<Figure size 432x288 with 1 Axes>"
      ]
     },
     "metadata": {
      "needs_background": "light"
     },
     "output_type": "display_data"
    }
   ],
   "source": [
    "import numpy as np\n",
    "import matplotlib.pyplot as plt\n",
    "\n",
    "Q1 = data['Fare'].quantile(0.25)\n",
    "Q3 = data['Fare'].quantile(0.75)\n",
    "IQR = Q3 - Q1\n",
    "\n",
    "# Define the upper and lower bounds for outliers\n",
    "lower_bound = Q1 - 1.5 * IQR\n",
    "upper_bound = Q3 + 1.5 * IQR\n",
    "\n",
    "# Remove outliers from the Fare column\n",
    "cleaned_data = data[(data['Fare'] >= lower_bound) & (data['Fare'] <= upper_bound)]\n",
    "\n",
    "# Print the cleaned dataset\n",
    "#print(cleaned_data)\n",
    "\n",
    "\n",
    "# Calculate the trendline\n",
    "fit = np.polyfit(cleaned_data['Fare'], cleaned_data['Survived'], 1)\n",
    "trendline = np.polyval(fit, cleaned_data['Fare'])\n",
    "\n",
    "# Plot the scatter plot with trendline\n",
    "plt.scatter(cleaned_data['Fare'], cleaned_data['Survived'])\n",
    "plt.plot(cleaned_data['Fare'], trendline, color='red', linestyle='--', label='Trendline')\n",
    "plt.xlabel('Fare')\n",
    "plt.ylabel('Survived')\n",
    "plt.title('Correlation between Survived and Fare')\n",
    "plt.legend()\n",
    "plt.show()"
   ]
  },
  {
   "cell_type": "markdown",
   "id": "3e853126",
   "metadata": {},
   "source": [
    "## Based on the given correlation coefficient of 0.19 between \"Survived\" and \"Fare\", we can draw the following statistical conclusions:"
   ]
  },
  {
   "cell_type": "markdown",
   "id": "8ff1374c",
   "metadata": {},
   "source": [
    "1.Weak Positive Correlation: The correlation coefficient of 0.19 indicates a weak positive correlation between \"Survived\" and \"Fare\". This suggests that there is a slight tendency for higher fare values to be associated with a slightly higher likelihood of survival.\n",
    "\n",
    "2.Consider Other Factors: While there is a positive correlation, it is important to note that correlation does not imply causation. Other factors such as passenger class, age, or gender may have a stronger influence on survival outcomes. It is recommended to consider these variables in conjunction with fare when analyzing the factors affecting survival.\n",
    "\n",
    "3.Further Analysis: To fully understand the relationship between \"Survived\" and \"Fare\", it is beneficial to conduct additional statistical tests or explore other visualization techniques. This can help uncover any non-linear or non-monotonic relationships and provide more insights into the factors contributing to survival.\n",
    "\n",
    "4.Interpret with Caution: Although a positive correlation exists, the magnitude of 0.19 suggests a relatively weak association. It is important to interpret the correlation in the context of the dataset and consider other variables before drawing definitive conclusions.\n",
    "\n",
    "  It is essential to conduct further analysis and consider multiple factors to gain a comprehensive understanding of the factors influencing survival on the Titanic. "
   ]
  },
  {
   "cell_type": "code",
   "execution_count": 22,
   "id": "8cc44414",
   "metadata": {},
   "outputs": [
    {
     "data": {
      "image/png": "[encoded data removed]",
      "text/plain": [
       "<Figure size 432x288 with 1 Axes>"
      ]
     },
     "metadata": {
      "needs_background": "light"
     },
     "output_type": "display_data"
    }
   ],
   "source": [
    "import seaborn as sns\n",
    "\n",
    "# Assuming 'data' is your DataFrame containing the 'Survived' and 'Age' columns\n",
    "sns.regplot(x='Age', y='Survived', data=data, scatter=True)\n",
    "plt.xlabel('Age')\n",
    "plt.ylabel('Survived')\n",
    "plt.title('Correlation between Survived and Age with Trendline')\n",
    "plt.yticks([0, 1], ['No', 'Yes'])\n",
    "plt.show()"
   ]
  },
  {
   "cell_type": "markdown",
   "id": "6bd14db0",
   "metadata": {},
   "source": [
    "# Based on the correlation value of -0.006750 between \"Survived\" and \"Age\" with the trendline, we can draw the following statistical conclusions:"
   ]
  },
  {
   "cell_type": "markdown",
   "id": "187a34d3",
   "metadata": {},
   "source": [
    "The correlation coefficient of -0.006750 indicates a very weak and almost negligible relationship between \"Survived\" and \"Age\". This suggests that there is no significant linear relationship between the age of the passengers and the survival outcome.\n",
    "\n",
    "It is important to note that correlation only measures the linear relationship between variables and does not imply causation. In this case, the correlation value of -0.006750 suggests that age alone is not a strong determinant of survival outcome on the Titanic.\n",
    "\n",
    "\n",
    "It should be noted that the correlation coefficient measures only the linear relationship between two variables and may not capture any non-linear relationships or interactions that might exist. Further analysis is needed to explore other potential factors that may influence survival outcome, such as passenger class, gender, and other relevant features.\n",
    "\n",
    "Overall, based on the correlation value of -0.006750, it can be concluded that age does not play a significant role in determining the survival outcome on the Titanic"
   ]
  },
  {
   "cell_type": "code",
   "execution_count": 23,
   "id": "21685442",
   "metadata": {},
   "outputs": [
    {
     "name": "stdout",
     "output_type": "stream",
     "text": [
      "out of 891 62 percent people died in the accident\n"
     ]
    },
    {
     "name": "stderr",
     "output_type": "stream",
     "text": [
      "C:\\Users\\owner\\anaconda3\\lib\\site-packages\\seaborn\\_decorators.py:36: FutureWarning: Pass the following variable as a keyword arg: x. From version 0.12, the only valid positional argument will be `data`, and passing other arguments without an explicit keyword will result in an error or misinterpretation.\n",
      "  warnings.warn(\n"
     ]
    },
    {
     "data": {
      "image/png": "[encoded data removed]",
      "text/plain": [
       "<Figure size 432x288 with 1 Axes>"
      ]
     },
     "metadata": {
      "needs_background": "light"
     },
     "output_type": "display_data"
    }
   ],
   "source": [
    "# Univariate Analusis\n",
    "# let's start wwith the survived column\n",
    "\n",
    "sns.countplot(data[\"Survived\"])\n",
    "death_percent = round((data[\"Survived\"].value_counts().values[0]/891)*100)\n",
    "print(\"out of 891 {} percent people died in the accident\".format(death_percent))"
   ]
  },
  {
   "cell_type": "code",
   "execution_count": 24,
   "id": "17ae14dd",
   "metadata": {},
   "outputs": [
    {
     "name": "stdout",
     "output_type": "stream",
     "text": [
      "3    55.106622\n",
      "1    24.242424\n",
      "2    20.650954\n",
      "Name: Pclass, dtype: float64\n"
     ]
    },
    {
     "name": "stderr",
     "output_type": "stream",
     "text": [
      "C:\\Users\\owner\\anaconda3\\lib\\site-packages\\seaborn\\_decorators.py:36: FutureWarning: Pass the following variable as a keyword arg: x. From version 0.12, the only valid positional argument will be `data`, and passing other arguments without an explicit keyword will result in an error or misinterpretation.\n",
      "  warnings.warn(\n"
     ]
    },
    {
     "data": {
      "text/plain": [
       "<AxesSubplot:xlabel='Pclass', ylabel='count'>"
      ]
     },
     "execution_count": 24,
     "metadata": {},
     "output_type": "execute_result"
    },
    {
     "data": {
      "image/png": "[encoded data removed]",
      "text/plain": [
       "<Figure size 432x288 with 1 Axes>"
      ]
     },
     "metadata": {
      "needs_background": "light"
     },
     "output_type": "display_data"
    }
   ],
   "source": [
    "# pclass column\n",
    "\n",
    "print((data[\"Pclass\"].value_counts()/891)*100)\n",
    "sns.countplot(data[\"Pclass\"])"
   ]
  },
  {
   "cell_type": "code",
   "execution_count": 25,
   "id": "86bcb563",
   "metadata": {},
   "outputs": [
    {
     "data": {
      "text/plain": [
       "Index(['Survived', 'Pclass', 'Sex', 'Age', 'Fare', 'Embarked', 'Sex_Encoded'], dtype='object')"
      ]
     },
     "execution_count": 25,
     "metadata": {},
     "output_type": "execute_result"
    }
   ],
   "source": [
    "data.columns"
   ]
  },
  {
   "cell_type": "code",
   "execution_count": 26,
   "id": "3718cd5c",
   "metadata": {},
   "outputs": [
    {
     "data": {
      "text/plain": [
       "Survived       0\n",
       "Pclass         0\n",
       "Sex            0\n",
       "Age            0\n",
       "Fare           0\n",
       "Embarked       2\n",
       "Sex_Encoded    0\n",
       "dtype: int64"
      ]
     },
     "execution_count": 26,
     "metadata": {},
     "output_type": "execute_result"
    }
   ],
   "source": [
    "data.isnull().sum()"
   ]
  },
  {
   "cell_type": "code",
   "execution_count": 27,
   "id": "0f5a38e3",
   "metadata": {},
   "outputs": [
    {
     "name": "stdout",
     "output_type": "stream",
     "text": [
      "male      64.758698\n",
      "female    35.241302\n",
      "Name: Sex, dtype: float64\n"
     ]
    },
    {
     "name": "stderr",
     "output_type": "stream",
     "text": [
      "C:\\Users\\owner\\anaconda3\\lib\\site-packages\\seaborn\\_decorators.py:36: FutureWarning: Pass the following variable as a keyword arg: x. From version 0.12, the only valid positional argument will be `data`, and passing other arguments without an explicit keyword will result in an error or misinterpretation.\n",
      "  warnings.warn(\n"
     ]
    },
    {
     "data": {
      "text/plain": [
       "<AxesSubplot:xlabel='Sex', ylabel='count'>"
      ]
     },
     "execution_count": 27,
     "metadata": {},
     "output_type": "execute_result"
    },
    {
     "data": {
      "image/png": "[encoded data removed]",
      "text/plain": [
       "<Figure size 432x288 with 1 Axes>"
      ]
     },
     "metadata": {
      "needs_background": "light"
     },
     "output_type": "display_data"
    }
   ],
   "source": [
    "print((data[\"Sex\"].value_counts()/891)*100)\n",
    "sns.countplot(data[\"Sex\"])"
   ]
  },
  {
   "cell_type": "code",
   "execution_count": 28,
   "id": "bcb36041",
   "metadata": {},
   "outputs": [
    {
     "name": "stdout",
     "output_type": "stream",
     "text": [
      "S    72.278339\n",
      "C    18.855219\n",
      "Q     8.641975\n",
      "Name: Embarked, dtype: float64\n"
     ]
    },
    {
     "name": "stderr",
     "output_type": "stream",
     "text": [
      "C:\\Users\\owner\\anaconda3\\lib\\site-packages\\seaborn\\_decorators.py:36: FutureWarning: Pass the following variable as a keyword arg: x. From version 0.12, the only valid positional argument will be `data`, and passing other arguments without an explicit keyword will result in an error or misinterpretation.\n",
      "  warnings.warn(\n"
     ]
    },
    {
     "data": {
      "text/plain": [
       "<AxesSubplot:xlabel='Embarked', ylabel='count'>"
      ]
     },
     "execution_count": 28,
     "metadata": {},
     "output_type": "execute_result"
    },
    {
     "data": {
      "image/png": "[encoded data removed]",
      "text/plain": [
       "<Figure size 432x288 with 1 Axes>"
      ]
     },
     "metadata": {
      "needs_background": "light"
     },
     "output_type": "display_data"
    }
   ],
   "source": [
    "print((data[\"Embarked\"].value_counts()/891)*100)\n",
    "sns.countplot(data[\"Embarked\"])"
   ]
  },
  {
   "cell_type": "code",
   "execution_count": 29,
   "id": "2136f625",
   "metadata": {},
   "outputs": [
    {
     "name": "stdout",
     "output_type": "stream",
     "text": [
      "0.49538413706950435\n",
      "0.6466483270307366\n"
     ]
    },
    {
     "data": {
      "image/png": "[encoded data removed]",
      "text/plain": [
       "<Figure size 360x360 with 1 Axes>"
      ]
     },
     "metadata": {
      "needs_background": "light"
     },
     "output_type": "display_data"
    }
   ],
   "source": [
    "# Age column\n",
    "sns.displot(data[\"Age\"],kde =True)\n",
    "print(data[\"Age\"].skew())\n",
    "print(data[\"Age\"].kurt())"
   ]
  },
  {
   "cell_type": "code",
   "execution_count": 30,
   "id": "b99a483a",
   "metadata": {},
   "outputs": [
    {
     "name": "stderr",
     "output_type": "stream",
     "text": [
      "C:\\Users\\owner\\anaconda3\\lib\\site-packages\\seaborn\\_decorators.py:36: FutureWarning: Pass the following variable as a keyword arg: x. From version 0.12, the only valid positional argument will be `data`, and passing other arguments without an explicit keyword will result in an error or misinterpretation.\n",
      "  warnings.warn(\n"
     ]
    },
    {
     "data": {
      "text/plain": [
       "<AxesSubplot:xlabel='Age'>"
      ]
     },
     "execution_count": 30,
     "metadata": {},
     "output_type": "execute_result"
    },
    {
     "data": {
      "image/png": "[encoded data removed]",
      "text/plain": [
       "<Figure size 432x288 with 1 Axes>"
      ]
     },
     "metadata": {
      "needs_background": "light"
     },
     "output_type": "display_data"
    }
   ],
   "source": [
    "sns.boxplot(data[\"Age\"])"
   ]
  },
  {
   "cell_type": "code",
   "execution_count": 31,
   "id": "176e8687",
   "metadata": {},
   "outputs": [
    {
     "name": "stdout",
     "output_type": "stream",
     "text": [
      "People with age in b\\w 60 and 70 are 15\n",
      "People with age greater than 70 and 75 are 6\n",
      "People with age greater than 75 are  1\n",
      "people with age b\\w 0 and 1 are  7\n"
     ]
    }
   ],
   "source": [
    "print(\"People with age in b\\w 60 and 70 are\",data[(data[\"Age\"]>60)&(data[\"Age\"]<70)].shape[0])\n",
    "print(\"People with age greater than 70 and 75 are\",data[(data[\"Age\"]>=70)&(data[\"Age\"]<=75)].shape[0])\n",
    "print(\"People with age greater than 75 are \",data[data[\"Age\"]>75].shape[0])\n",
    "\n",
    "print(\"people with age b\\w 0 and 1 are \",data[data[\"Age\"]<1].shape[0])"
   ]
  },
  {
   "cell_type": "code",
   "execution_count": 32,
   "id": "47cc8219",
   "metadata": {},
   "outputs": [
    {
     "data": {
      "text/plain": [
       "<seaborn.axisgrid.FacetGrid at 0x1fdf76f6100>"
      ]
     },
     "execution_count": 32,
     "metadata": {},
     "output_type": "execute_result"
    },
    {
     "data": {
      "image/png": "[encoded data removed]",
      "text/plain": [
       "<Figure size 360x360 with 1 Axes>"
      ]
     },
     "metadata": {
      "needs_background": "light"
     },
     "output_type": "display_data"
    }
   ],
   "source": [
    "# Fare column\n",
    "sns.displot(data[\"Fare\"],kde =True)"
   ]
  },
  {
   "cell_type": "code",
   "execution_count": 33,
   "id": "cc9e471c",
   "metadata": {},
   "outputs": [
    {
     "name": "stdout",
     "output_type": "stream",
     "text": [
      "4.787316519674893\n",
      "33.39814088089868\n"
     ]
    }
   ],
   "source": [
    "print(data[\"Fare\"].skew())\n",
    "print(data[\"Fare\"].kurt())   "
   ]
  },
  {
   "cell_type": "code",
   "execution_count": 34,
   "id": "1dbc8111",
   "metadata": {},
   "outputs": [
    {
     "name": "stderr",
     "output_type": "stream",
     "text": [
      "C:\\Users\\owner\\anaconda3\\lib\\site-packages\\seaborn\\_decorators.py:36: FutureWarning: Pass the following variable as a keyword arg: x. From version 0.12, the only valid positional argument will be `data`, and passing other arguments without an explicit keyword will result in an error or misinterpretation.\n",
      "  warnings.warn(\n"
     ]
    },
    {
     "data": {
      "text/plain": [
       "<AxesSubplot:xlabel='Fare'>"
      ]
     },
     "execution_count": 34,
     "metadata": {},
     "output_type": "execute_result"
    },
    {
     "data": {
      "image/png": "[encoded data removed]",
      "text/plain": [
       "<Figure size 432x288 with 1 Axes>"
      ]
     },
     "metadata": {
      "needs_background": "light"
     },
     "output_type": "display_data"
    }
   ],
   "source": [
    " sns.boxplot(data[\"Fare\"])"
   ]
  },
  {
   "cell_type": "code",
   "execution_count": 35,
   "id": "d5174898",
   "metadata": {},
   "outputs": [
    {
     "name": "stderr",
     "output_type": "stream",
     "text": [
      "C:\\Users\\owner\\anaconda3\\lib\\site-packages\\seaborn\\_decorators.py:36: FutureWarning: Pass the following variable as a keyword arg: x. From version 0.12, the only valid positional argument will be `data`, and passing other arguments without an explicit keyword will result in an error or misinterpretation.\n",
      "  warnings.warn(\n"
     ]
    },
    {
     "data": {
      "text/plain": [
       "<AxesSubplot:xlabel='Fare'>"
      ]
     },
     "execution_count": 35,
     "metadata": {},
     "output_type": "execute_result"
    },
    {
     "data": {
      "image/png": "[encoded data removed]",
      "text/plain": [
       "<Figure size 432x288 with 1 Axes>"
      ]
     },
     "metadata": {
      "needs_background": "light"
     },
     "output_type": "display_data"
    }
   ],
   "source": [
    "sns.boxplot(data[\"Fare\"])"
   ]
  },
  {
   "cell_type": "code",
   "execution_count": 36,
   "id": "15c538c2",
   "metadata": {},
   "outputs": [
    {
     "name": "stdout",
     "output_type": "stream",
     "text": [
      "People with fare in between $ 200 and $300 876\n",
      "People with fare un greater than $300 3\n"
     ]
    }
   ],
   "source": [
    "print(\"People with fare in between $ 200 and $300\",data[(data[\"Fare\"]>200 & (data[\"Fare\"]<300))].shape[0])\n",
    "print(\"People with fare un greater than $300\",data[data[\"Fare\"]>300].shape[0])   "
   ]
  },
  {
   "cell_type": "code",
   "execution_count": 37,
   "id": "575284bc",
   "metadata": {},
   "outputs": [
    {
     "data": {
      "text/plain": [
       "<seaborn.axisgrid.FacetGrid at 0x1fdf7993160>"
      ]
     },
     "execution_count": 37,
     "metadata": {},
     "output_type": "execute_result"
    },
    {
     "data": {
      "image/png": "[encoded data removed]",
      "text/plain": [
       "<Figure size 360x360 with 1 Axes>"
      ]
     },
     "metadata": {
      "needs_background": "light"
     },
     "output_type": "display_data"
    },
    {
     "data": {
      "image/png": "[encoded data removed]",
      "text/plain": [
       "<Figure size 360x360 with 1 Axes>"
      ]
     },
     "metadata": {
      "needs_background": "light"
     },
     "output_type": "display_data"
    }
   ],
   "source": [
    "sns.displot(data[data[\"Survived\"]==0][\"Age\"])\n",
    "sns.displot(data[data[\"Survived\"]==1][\"Age\"])"
   ]
  },
  {
   "cell_type": "code",
   "execution_count": 38,
   "id": "cae64edf",
   "metadata": {},
   "outputs": [
    {
     "data": {
      "text/plain": [
       "<seaborn.axisgrid.FacetGrid at 0x1fdf7a36940>"
      ]
     },
     "execution_count": 38,
     "metadata": {},
     "output_type": "execute_result"
    },
    {
     "data": {
      "image/png": "[encoded data removed]",
      "text/plain": [
       "<Figure size 360x360 with 1 Axes>"
      ]
     },
     "metadata": {
      "needs_background": "light"
     },
     "output_type": "display_data"
    },
    {
     "data": {
      "image/png": "[encoded data removed]",
      "text/plain": [
       "<Figure size 360x360 with 1 Axes>"
      ]
     },
     "metadata": {
      "needs_background": "light"
     },
     "output_type": "display_data"
    }
   ],
   "source": [
    "import matplotlib as plt \n",
    "\n",
    "sns.displot(data[data[\"Survived\"]==0][\"Sex\"])\n",
    "sns.displot(data[data[\"Survived\"]==1][\"Sex\"])"
   ]
  },
  {
   "cell_type": "code",
   "execution_count": 39,
   "id": "8c4dfa1f",
   "metadata": {},
   "outputs": [
    {
     "data": {
      "text/plain": [
       "<seaborn.axisgrid.FacetGrid at 0x1fdf79aba00>"
      ]
     },
     "execution_count": 39,
     "metadata": {},
     "output_type": "execute_result"
    },
    {
     "data": {
      "image/png": "[encoded data removed]",
      "text/plain": [
       "<Figure size 360x360 with 1 Axes>"
      ]
     },
     "metadata": {
      "needs_background": "light"
     },
     "output_type": "display_data"
    },
    {
     "data": {
      "image/png": "[encoded data removed]",
      "text/plain": [
       "<Figure size 360x360 with 1 Axes>"
      ]
     },
     "metadata": {
      "needs_background": "light"
     },
     "output_type": "display_data"
    }
   ],
   "source": [
    "sns.displot(data[data[\"Survived\"]==0][\"Fare\"])\n",
    "sns.displot(data[data[\"Survived\"]==1][\"Fare\"])"
   ]
  },
  {
   "cell_type": "code",
   "execution_count": 40,
   "id": "cc8968e9",
   "metadata": {},
   "outputs": [
    {
     "data": {
      "text/plain": [
       "<seaborn.axisgrid.PairGrid at 0x1fdf795a520>"
      ]
     },
     "execution_count": 40,
     "metadata": {},
     "output_type": "execute_result"
    },
    {
     "data": {
      "image/png": "[encoded data removed]",
      "text/plain": [
       "<Figure size 900x900 with 30 Axes>"
      ]
     },
     "metadata": {
      "needs_background": "light"
     },
     "output_type": "display_data"
    }
   ],
   "source": [
    "sns.pairplot(data)"
   ]
  },
  {
   "cell_type": "code",
   "execution_count": 41,
   "id": "c09c15bf",
   "metadata": {},
   "outputs": [
    {
     "data": {
      "text/plain": [
       "<AxesSubplot:>"
      ]
     },
     "execution_count": 41,
     "metadata": {},
     "output_type": "execute_result"
    },
    {
     "data": {
      "image/png": "[encoded data removed]",
      "text/plain": [
       "<Figure size 432x288 with 2 Axes>"
      ]
     },
     "metadata": {
      "needs_background": "light"
     },
     "output_type": "display_data"
    }
   ],
   "source": [
    "sns.heatmap(data.corr())"
   ]
  },
  {
   "cell_type": "code",
   "execution_count": null,
   "id": "130cc176",
   "metadata": {},
   "outputs": [],
   "source": []
  },
  {
   "cell_type": "markdown",
   "id": "39a84889",
   "metadata": {},
   "source": [
    "# Summary of the Conclusions:"
   ]
  },
  {
   "cell_type": "markdown",
   "id": "e8fecdde",
   "metadata": {},
   "source": [
    "Based on the data analysis and calculation of correlation coefficients between different variables and the survival outcome on the Titanic, the following conclusions can be drawn:"
   ]
  },
  {
   "cell_type": "markdown",
   "id": "a9d30bb9",
   "metadata": {},
   "source": [
    "  1.Gender (the variable \"Sex_Encoded\") played a significant role in determining the survival rates. There was a strong positive correlation between gender and survival rates. This suggests that being female (encoded as 2) was associated with a higher likelihood of survival, while being male (encoded as 1) was associated with a lower likelihood of survival.\n",
    "  \n",
    "  2.Gender had a significant impact on the distribution of survival on the ship. All female passengers in the dataset survived, while none of the male passengers survived. This indicates a stark difference in survival rates based on gender.\n",
    "  \n",
    "  3.The weak positive correlation between \"Survived\" and \"Fare\" indicates a slight tendency for higher fare values to be associated with a slightly higher likelihood of survival. However, the correlation is relatively weak, and there may be other factors that have a stronger influence on survival outcomes.\n",
    "  \n",
    "  4.There is no significant correlation between \"Survived\" and \"Age,\" suggesting that age alone does not play a significant role in determining survival outcomes on the Titanic. However, it is important to note that there may be other factors that influence survival.\n",
    "  \n",
    "  5.Further analysis is needed to explore other factors that may impact survival outcomes, such as passenger class, age, and others. Additional statistical tests and techniques can help uncover non-linear relationships or interactions that may exist."
   ]
  },
  {
   "cell_type": "markdown",
   "id": "3a76a71e",
   "metadata": {},
   "source": [
    "In summary, the conclusions can be summarized as follows: Gender and fare were influential factors in survival outcomes on the Titanic. It is important to note that these conclusions are based on the available dataset, and further analysis and study may be required to generalize the findings to the overall population of Titanic passengers."
   ]
  },
  {
   "cell_type": "code",
   "execution_count": null,
   "id": "049408a3",
   "metadata": {},
   "outputs": [],
   "source": []
  }
 ],
 "metadata": {
  "kernelspec": {
   "display_name": "Python 3 (ipykernel)",
   "language": "python",
   "name": "python3"
  },
  "language_info": {
   "codemirror_mode": {
    "name": "ipython",
    "version": 3
   },
   "file_extension": ".py",
   "mimetype": "text/x-python",
   "name": "python",
   "nbconvert_exporter": "python",
   "pygments_lexer": "ipython3",
   "version": "3.9.12"
  }
 },
 "nbformat": 4,
 "nbformat_minor": 5
}
